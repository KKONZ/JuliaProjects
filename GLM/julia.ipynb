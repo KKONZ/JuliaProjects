{
 "cells": [
  {
   "cell_type": "markdown",
   "metadata": {},
   "source": [
    "GLM Model"
   ]
  },
  {
   "cell_type": "code",
   "execution_count": 2,
   "metadata": {
    "collapsed": true
   },
   "outputs": [],
   "source": [
    "using GLM; using DataFrames"
   ]
  },
  {
   "cell_type": "code",
   "execution_count": 26,
   "metadata": {
    "collapsed": false
   },
   "outputs": [
    {
     "data": {
      "text/html": [
       "<table class=\"data-frame\"><tr><th></th><th>X</th><th>Y</th></tr><tr><th>1</th><td>1</td><td>3</td></tr><tr><th>2</th><td>2</td><td>5</td></tr><tr><th>3</th><td>3</td><td>7</td></tr><tr><th>4</th><td>4</td><td>9</td></tr><tr><th>5</th><td>5</td><td>8</td></tr><tr><th>6</th><td>6</td><td>11</td></tr><tr><th>7</th><td>7</td><td>13</td></tr></table>"
      ],
      "text/plain": [
       "7×2 DataFrames.DataFrame\n",
       "│ Row │ X │ Y  │\n",
       "├─────┼───┼────┤\n",
       "│ 1   │ 1 │ 3  │\n",
       "│ 2   │ 2 │ 5  │\n",
       "│ 3   │ 3 │ 7  │\n",
       "│ 4   │ 4 │ 9  │\n",
       "│ 5   │ 5 │ 8  │\n",
       "│ 6   │ 6 │ 11 │\n",
       "│ 7   │ 7 │ 13 │"
      ]
     },
     "execution_count": 26,
     "metadata": {},
     "output_type": "execute_result"
    }
   ],
   "source": [
    "OrdLstSqRegData = DataFrame(X=[1,2,3,4,5,6,7 ],Y=[3,5,7,9,8,11,13])"
   ]
  },
  {
   "cell_type": "code",
   "execution_count": 31,
   "metadata": {
    "collapsed": false
   },
   "outputs": [
    {
     "name": "stdout",
     "output_type": "stream",
     "text": [
      "  0.000369 seconds (398 allocations: 34.000 KB)\n"
     ]
    },
    {
     "data": {
      "text/plain": [
       "DataFrames.DataFrameRegressionModel{GLM.GeneralizedLinearModel{GLM.GlmResp{Array{Float64,1},Distributions.Normal{Float64},GLM.IdentityLink},GLM.DensePredChol{Float64,Base.LinAlg.Cholesky{Float64,Array{Float64,2}}}},Float64}\n",
       "\n",
       "Formula: Y ~ 1 + X\n",
       "\n",
       "Coefficients:\n",
       "             Estimate Std.Error z value Pr(>|z|)\n",
       "(Intercept)   1.85714  0.752547 2.46781   0.0136\n",
       "X             1.53571  0.168275 9.12624   <1e-19\n"
      ]
     },
     "execution_count": 31,
     "metadata": {},
     "output_type": "execute_result"
    }
   ],
   "source": [
    "@time OLS = glm(Y~X,OrdLstSqRegData,Normal(),IdentityLink())"
   ]
  },
  {
   "cell_type": "code",
   "execution_count": 25,
   "metadata": {
    "collapsed": false
   },
   "outputs": [
    {
     "data": {
      "text/plain": [
       "2-element Array{Float64,1}:\n",
       " 0.752547\n",
       " 0.168275"
      ]
     },
     "execution_count": 25,
     "metadata": {},
     "output_type": "execute_result"
    }
   ],
   "source": [
    "stderr(OLS)"
   ]
  },
  {
   "cell_type": "code",
   "execution_count": 29,
   "metadata": {
    "collapsed": false
   },
   "outputs": [
    {
     "name": "stdout",
     "output_type": "stream",
     "text": [
      "  0.017307 seconds (18.68 k allocations: 850.555 KB)\n"
     ]
    },
    {
     "data": {
      "text/plain": [
       "7-element Array{Float64,1}:\n",
       "  3.39286\n",
       "  4.92857\n",
       "  6.46429\n",
       "  8.0    \n",
       "  9.53571\n",
       " 11.0714 \n",
       " 12.6071 "
      ]
     },
     "execution_count": 29,
     "metadata": {},
     "output_type": "execute_result"
    }
   ],
   "source": [
    "@time OrdLstSqRegData[:Z] = predict(OLS)"
   ]
  },
  {
   "cell_type": "code",
   "execution_count": 30,
   "metadata": {
    "collapsed": false
   },
   "outputs": [
    {
     "data": {
      "text/html": [
       "<table class=\"data-frame\"><tr><th></th><th>X</th><th>Y</th><th>Z</th></tr><tr><th>1</th><td>1</td><td>3</td><td>3.3928571428571423</td></tr><tr><th>2</th><td>2</td><td>5</td><td>4.928571428571429</td></tr><tr><th>3</th><td>3</td><td>7</td><td>6.464285714285714</td></tr><tr><th>4</th><td>4</td><td>9</td><td>8.0</td></tr><tr><th>5</th><td>5</td><td>8</td><td>9.535714285714285</td></tr><tr><th>6</th><td>6</td><td>11</td><td>11.071428571428573</td></tr><tr><th>7</th><td>7</td><td>13</td><td>12.607142857142858</td></tr></table>"
      ],
      "text/plain": [
       "7×3 DataFrames.DataFrame\n",
       "│ Row │ X │ Y  │ Z       │\n",
       "├─────┼───┼────┼─────────┤\n",
       "│ 1   │ 1 │ 3  │ 3.39286 │\n",
       "│ 2   │ 2 │ 5  │ 4.92857 │\n",
       "│ 3   │ 3 │ 7  │ 6.46429 │\n",
       "│ 4   │ 4 │ 9  │ 8.0     │\n",
       "│ 5   │ 5 │ 8  │ 9.53571 │\n",
       "│ 6   │ 6 │ 11 │ 11.0714 │\n",
       "│ 7   │ 7 │ 13 │ 12.6071 │"
      ]
     },
     "execution_count": 30,
     "metadata": {},
     "output_type": "execute_result"
    }
   ],
   "source": [
    "OrdLstSqRegData"
   ]
  },
  {
   "cell_type": "markdown",
   "metadata": {},
   "source": [
    "Probit"
   ]
  }
 ],
 "metadata": {
  "kernelspec": {
   "display_name": "Julia 0.4.5",
   "language": "julia",
   "name": "julia-0.4"
  },
  "language_info": {
   "file_extension": ".jl",
   "mimetype": "application/julia",
   "name": "julia",
   "version": "0.4.5"
  }
 },
 "nbformat": 4,
 "nbformat_minor": 0
}
