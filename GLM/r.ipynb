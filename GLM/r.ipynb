{
 "cells": [
  {
   "cell_type": "code",
   "execution_count": 1,
   "metadata": {
    "collapsed": false
   },
   "outputs": [
    {
     "name": "stderr",
     "output_type": "stream",
     "text": [
      "Warning message:\n",
      ": package 'glmnet' was built under R version 3.2.5Loading required package: Matrix\n",
      "Loading required package: foreach\n",
      "Warning message:\n",
      ": package 'foreach' was built under R version 3.2.5Loaded glmnet 2.0-5\n",
      "\n"
     ]
    }
   ],
   "source": [
    "library(glmnet)"
   ]
  },
  {
   "cell_type": "code",
   "execution_count": 2,
   "metadata": {
    "collapsed": true
   },
   "outputs": [],
   "source": [
    "X = c(1,2,3,4,5,6,7)\n",
    "Y = c(3,5,7,9,8,11,13)\n",
    "OrdLstSqRegData = data.frame(X,Y)"
   ]
  },
  {
   "cell_type": "code",
   "execution_count": 3,
   "metadata": {
    "collapsed": false
   },
   "outputs": [
    {
     "data": {
      "text/html": [
       "<table>\n",
       "<thead><tr><th></th><th scope=col>X</th><th scope=col>Y</th></tr></thead>\n",
       "<tbody>\n",
       "\t<tr><th scope=row>1</th><td>1</td><td>3</td></tr>\n",
       "\t<tr><th scope=row>2</th><td>2</td><td>5</td></tr>\n",
       "\t<tr><th scope=row>3</th><td>3</td><td>7</td></tr>\n",
       "\t<tr><th scope=row>4</th><td>4</td><td>9</td></tr>\n",
       "\t<tr><th scope=row>5</th><td>5</td><td>8</td></tr>\n",
       "\t<tr><th scope=row>6</th><td> 6</td><td>11</td></tr>\n",
       "\t<tr><th scope=row>7</th><td> 7</td><td>13</td></tr>\n",
       "</tbody>\n",
       "</table>\n"
      ],
      "text/latex": [
       "\\begin{tabular}{r|ll}\n",
       "  & X & Y\\\\\n",
       "\\hline\n",
       "\t1 & 1 & 3\\\\\n",
       "\t2 & 2 & 5\\\\\n",
       "\t3 & 3 & 7\\\\\n",
       "\t4 & 4 & 9\\\\\n",
       "\t5 & 5 & 8\\\\\n",
       "\t6 &  6 & 11\\\\\n",
       "\t7 &  7 & 13\\\\\n",
       "\\end{tabular}\n"
      ],
      "text/plain": [
       "  X  Y\n",
       "1 1  3\n",
       "2 2  5\n",
       "3 3  7\n",
       "4 4  9\n",
       "5 5  8\n",
       "6 6 11\n",
       "7 7 13"
      ]
     },
     "metadata": {},
     "output_type": "display_data"
    }
   ],
   "source": [
    "OrdLstSqRegData"
   ]
  },
  {
   "cell_type": "code",
   "execution_count": 4,
   "metadata": {
    "collapsed": false
   },
   "outputs": [
    {
     "data": {
      "text/plain": [
       "   user  system elapsed \n",
       "   1.39    0.14   15.95 "
      ]
     },
     "metadata": {},
     "output_type": "display_data"
    }
   ],
   "source": [
    "proc.time();OLS=glm(X~Y, family = gaussian(link=\"identity\"), data=OrdLstSqRegData)"
   ]
  },
  {
   "cell_type": "markdown",
   "metadata": {},
   "source": [
    "Run again:"
   ]
  },
  {
   "cell_type": "code",
   "execution_count": 5,
   "metadata": {
    "collapsed": false
   },
   "outputs": [
    {
     "data": {
      "text/plain": [
       "   user  system elapsed \n",
       "   1.43    0.14   21.68 "
      ]
     },
     "metadata": {},
     "output_type": "display_data"
    }
   ],
   "source": [
    "proc.time();OLS=lm(X~Y, data=OrdLstSqRegData)"
   ]
  },
  {
   "cell_type": "code",
   "execution_count": 6,
   "metadata": {
    "collapsed": false
   },
   "outputs": [
    {
     "data": {
      "text/html": [
       "<table>\n",
       "<thead><tr><th></th><th scope=col>X</th><th scope=col>Y</th><th scope=col>predict(OLS, OrdLstSqRegData)</th></tr></thead>\n",
       "<tbody>\n",
       "\t<tr><th scope=row>1</th><td>1.0000000</td><td>3.0000000</td><td>0.9285714</td></tr>\n",
       "\t<tr><th scope=row>2</th><td>2.000000</td><td>5.000000</td><td>2.157143</td></tr>\n",
       "\t<tr><th scope=row>3</th><td>3.000000</td><td>7.000000</td><td>3.385714</td></tr>\n",
       "\t<tr><th scope=row>4</th><td>4.000000</td><td>9.000000</td><td>4.614286</td></tr>\n",
       "\t<tr><th scope=row>5</th><td>5</td><td>8</td><td>4</td></tr>\n",
       "\t<tr><th scope=row>6</th><td> 6.000000</td><td>11.000000</td><td> 5.842857</td></tr>\n",
       "\t<tr><th scope=row>7</th><td> 7.000000</td><td>13.000000</td><td> 7.071429</td></tr>\n",
       "</tbody>\n",
       "</table>\n"
      ],
      "text/latex": [
       "\\begin{tabular}{r|lll}\n",
       "  & X & Y & predict(OLS, OrdLstSqRegData)\\\\\n",
       "\\hline\n",
       "\t1 & 1.0000000 & 3.0000000 & 0.9285714\\\\\n",
       "\t2 & 2.000000 & 5.000000 & 2.157143\\\\\n",
       "\t3 & 3.000000 & 7.000000 & 3.385714\\\\\n",
       "\t4 & 4.000000 & 9.000000 & 4.614286\\\\\n",
       "\t5 & 5 & 8 & 4\\\\\n",
       "\t6 &  6.000000 & 11.000000 &  5.842857\\\\\n",
       "\t7 &  7.000000 & 13.000000 &  7.071429\\\\\n",
       "\\end{tabular}\n"
      ],
      "text/plain": [
       "  X  Y predict(OLS, OrdLstSqRegData)\n",
       "1 1  3                     0.9285714\n",
       "2 2  5                     2.1571429\n",
       "3 3  7                     3.3857143\n",
       "4 4  9                     4.6142857\n",
       "5 5  8                     4.0000000\n",
       "6 6 11                     5.8428571\n",
       "7 7 13                     7.0714286"
      ]
     },
     "metadata": {},
     "output_type": "display_data"
    }
   ],
   "source": [
    "cbind(OrdLstSqRegData,predict(OLS, OrdLstSqRegData))"
   ]
  },
  {
   "cell_type": "code",
   "execution_count": 7,
   "metadata": {
    "collapsed": false
   },
   "outputs": [
    {
     "data": {
      "text/plain": [
       "   user  system elapsed \n",
       "   1.48    0.15   31.56 "
      ]
     },
     "metadata": {},
     "output_type": "display_data"
    },
    {
     "data": {
      "text/html": [
       "<table>\n",
       "<thead><tr><th></th><th scope=col>X</th><th scope=col>Y</th><th scope=col>Pred</th></tr></thead>\n",
       "<tbody>\n",
       "\t<tr><th scope=row>1</th><td>1.0000000</td><td>3.0000000</td><td>0.9285714</td></tr>\n",
       "\t<tr><th scope=row>2</th><td>2.000000</td><td>5.000000</td><td>2.157143</td></tr>\n",
       "\t<tr><th scope=row>3</th><td>3.000000</td><td>7.000000</td><td>3.385714</td></tr>\n",
       "\t<tr><th scope=row>4</th><td>4.000000</td><td>9.000000</td><td>4.614286</td></tr>\n",
       "\t<tr><th scope=row>5</th><td>5</td><td>8</td><td>4</td></tr>\n",
       "\t<tr><th scope=row>6</th><td> 6.000000</td><td>11.000000</td><td> 5.842857</td></tr>\n",
       "\t<tr><th scope=row>7</th><td> 7.000000</td><td>13.000000</td><td> 7.071429</td></tr>\n",
       "</tbody>\n",
       "</table>\n"
      ],
      "text/latex": [
       "\\begin{tabular}{r|lll}\n",
       "  & X & Y & Pred\\\\\n",
       "\\hline\n",
       "\t1 & 1.0000000 & 3.0000000 & 0.9285714\\\\\n",
       "\t2 & 2.000000 & 5.000000 & 2.157143\\\\\n",
       "\t3 & 3.000000 & 7.000000 & 3.385714\\\\\n",
       "\t4 & 4.000000 & 9.000000 & 4.614286\\\\\n",
       "\t5 & 5 & 8 & 4\\\\\n",
       "\t6 &  6.000000 & 11.000000 &  5.842857\\\\\n",
       "\t7 &  7.000000 & 13.000000 &  7.071429\\\\\n",
       "\\end{tabular}\n"
      ],
      "text/plain": [
       "  X  Y      Pred\n",
       "1 1  3 0.9285714\n",
       "2 2  5 2.1571429\n",
       "3 3  7 3.3857143\n",
       "4 4  9 4.6142857\n",
       "5 5  8 4.0000000\n",
       "6 6 11 5.8428571\n",
       "7 7 13 7.0714286"
      ]
     },
     "metadata": {},
     "output_type": "display_data"
    }
   ],
   "source": [
    "proc.time();OrdLstSqRegData$Pred = predict(OLS, OrdLstSqRegData);OrdLstSqRegData"
   ]
  },
  {
   "cell_type": "code",
   "execution_count": 8,
   "metadata": {
    "collapsed": false
   },
   "outputs": [
    {
     "data": {
      "text/plain": [
       "   user  system elapsed \n",
       "   1.53    0.15   34.78 "
      ]
     },
     "metadata": {},
     "output_type": "display_data"
    }
   ],
   "source": [
    "proc.time();OLS=lm(X~Y,data=OrdLstSqRegData)"
   ]
  },
  {
   "cell_type": "code",
   "execution_count": 11,
   "metadata": {
    "collapsed": false
   },
   "outputs": [
    {
     "data": {
      "text/plain": [
       "   user  system elapsed \n",
       "   1.65    0.15   47.84 "
      ]
     },
     "metadata": {},
     "output_type": "display_data"
    },
    {
     "data": {
      "text/html": [
       "<table>\n",
       "<thead><tr><th></th><th scope=col>X</th><th scope=col>Y</th><th scope=col>Pred</th></tr></thead>\n",
       "<tbody>\n",
       "\t<tr><th scope=row>1</th><td>1.0000000</td><td>3.0000000</td><td>0.9285714</td></tr>\n",
       "\t<tr><th scope=row>2</th><td>2.000000</td><td>5.000000</td><td>2.157143</td></tr>\n",
       "\t<tr><th scope=row>3</th><td>3.000000</td><td>7.000000</td><td>3.385714</td></tr>\n",
       "\t<tr><th scope=row>4</th><td>4.000000</td><td>9.000000</td><td>4.614286</td></tr>\n",
       "\t<tr><th scope=row>5</th><td>5</td><td>8</td><td>4</td></tr>\n",
       "\t<tr><th scope=row>6</th><td> 6.000000</td><td>11.000000</td><td> 5.842857</td></tr>\n",
       "\t<tr><th scope=row>7</th><td> 7.000000</td><td>13.000000</td><td> 7.071429</td></tr>\n",
       "</tbody>\n",
       "</table>\n"
      ],
      "text/latex": [
       "\\begin{tabular}{r|lll}\n",
       "  & X & Y & Pred\\\\\n",
       "\\hline\n",
       "\t1 & 1.0000000 & 3.0000000 & 0.9285714\\\\\n",
       "\t2 & 2.000000 & 5.000000 & 2.157143\\\\\n",
       "\t3 & 3.000000 & 7.000000 & 3.385714\\\\\n",
       "\t4 & 4.000000 & 9.000000 & 4.614286\\\\\n",
       "\t5 & 5 & 8 & 4\\\\\n",
       "\t6 &  6.000000 & 11.000000 &  5.842857\\\\\n",
       "\t7 &  7.000000 & 13.000000 &  7.071429\\\\\n",
       "\\end{tabular}\n"
      ],
      "text/plain": [
       "  X  Y      Pred\n",
       "1 1  3 0.9285714\n",
       "2 2  5 2.1571429\n",
       "3 3  7 3.3857143\n",
       "4 4  9 4.6142857\n",
       "5 5  8 4.0000000\n",
       "6 6 11 5.8428571\n",
       "7 7 13 7.0714286"
      ]
     },
     "metadata": {},
     "output_type": "display_data"
    }
   ],
   "source": [
    "proc.time();OrdLstSqRegData$Pred = predict(OLS, OrdLstSqRegData);OrdLstSqRegData"
   ]
  }
 ],
 "metadata": {
  "kernelspec": {
   "display_name": "R",
   "language": "R",
   "name": "ir"
  },
  "language_info": {
   "codemirror_mode": "r",
   "file_extension": ".r",
   "mimetype": "text/x-r-source",
   "name": "R",
   "pygments_lexer": "r",
   "version": "3.2.4"
  }
 },
 "nbformat": 4,
 "nbformat_minor": 0
}
